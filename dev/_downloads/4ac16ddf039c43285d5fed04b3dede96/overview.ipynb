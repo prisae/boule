{
  "cells": [
    {
      "cell_type": "code",
      "execution_count": null,
      "metadata": {
        "collapsed": false
      },
      "outputs": [],
      "source": [
        "%matplotlib inline"
      ]
    },
    {
      "cell_type": "markdown",
      "metadata": {},
      "source": [
        "\n\n# Overview\n\nThe main functionality of Boule is contained in the :class:`~boule.Ellipsoid`\nclass.\nIt defines a `Reference Ellipsoid <https://en.wikipedia.org/wiki/Reference_ellipsoid>`__:\nan *oblate* ellipsoid that approximates the shape of the Earth (or other\nplanetary body).\nEllipsoids are generally specified by 4 parameters:\n\n1. The semi-major axis ($a$): the equatorial radius.\n2. The flattening ($f = (a - b)/a$): the ratio between the equatorial and\n   polar radii.\n3. The geocentric gravitational constant ($GM$): the multiplication of\n   the total mass of the ellipsoid and the `gravitational constant\n   <https://en.wikipedia.org/wiki/Gravitational_constant>`__.\n4. The angular velocity ($\\omega$): spin rate of the ellipsoid which\n   defines the centrifugal potential.\n\nWith these parameters, Boule can calculate gravity, coordinate conversions, and\nother derived physical and geometric properties of the ellipsoid.\n\n## The library\n\nAll functions and classes in Boule are available in the base namespace of the\n:mod:`boule` package. This means that you can access all of them with a single\nimport:\n"
      ]
    },
    {
      "cell_type": "code",
      "execution_count": null,
      "metadata": {
        "collapsed": false
      },
      "outputs": [],
      "source": [
        "# Boule is usually imported as bl\nimport boule as bl"
      ]
    },
    {
      "cell_type": "markdown",
      "metadata": {},
      "source": [
        "## Ellipsoids\n\nBoule comes with `built-in ellipsoids <ellipsoids>` that can be accessed\nas global variables in the :mod:`boule` module:\n\n"
      ]
    },
    {
      "cell_type": "code",
      "execution_count": null,
      "metadata": {
        "collapsed": false
      },
      "outputs": [],
      "source": [
        "print(bl.WGS84)\nprint(bl.MARS)"
      ]
    },
    {
      "cell_type": "markdown",
      "metadata": {},
      "source": [
        "As seen above, :class:`~boule.Ellipsoid` instances can be printed to record\ntheir defining attributes. Additionally, ellipsoids define a name (short and\nlong version) and reference for the origin of the numbers used:\n\n"
      ]
    },
    {
      "cell_type": "code",
      "execution_count": null,
      "metadata": {
        "collapsed": false
      },
      "outputs": [],
      "source": [
        "print(bl.MARS.name)\nprint(bl.MARS.reference)"
      ]
    },
    {
      "cell_type": "markdown",
      "metadata": {},
      "source": [
        "Other derived properties of ellipsoids are calculated on demand when\naccessed:\n\n"
      ]
    },
    {
      "cell_type": "code",
      "execution_count": null,
      "metadata": {
        "collapsed": false
      },
      "outputs": [],
      "source": [
        "print(bl.MARS.first_eccentricity)\nprint(bl.MARS.gravity_pole)\nprint(bl.MARS.gravity_equator)"
      ]
    },
    {
      "cell_type": "markdown",
      "metadata": {},
      "source": [
        "You can also define your own ellipsoid. For example, this would be a definition of an\nellipsoid with 1000 m semimajor axis, flattening equal to 0.5 and dummy values for\n$GM$ and $\\omega$:\n\n"
      ]
    },
    {
      "cell_type": "code",
      "execution_count": null,
      "metadata": {
        "collapsed": false
      },
      "outputs": [],
      "source": [
        "ellipsoid = bl.Ellipsoid(\n    name=\"Ellipsoid\",\n    long_name=\"Ellipsoid with 0.5 flattening\",\n    flattening=0.5,\n    semimajor_axis=1000,\n    geocentric_grav_const=1,\n    angular_velocity=1,\n)\nprint(ellipsoid)\nprint(ellipsoid.semiminor_axis)\nprint(ellipsoid.first_eccentricity)"
      ]
    },
    {
      "cell_type": "markdown",
      "metadata": {},
      "source": [
        "If the ellipsoid has zero flattening (a sphere), you must use the\n:class:`boule.Sphere` class instead. For example, this would be the definition of\na sphere with 1000 m radius and dummy values for $GM$ and $\\omega$:\n\n"
      ]
    },
    {
      "cell_type": "code",
      "execution_count": null,
      "metadata": {
        "collapsed": false
      },
      "outputs": [],
      "source": [
        "sphere = bl.Sphere(\n    name=\"Sphere\",\n    long_name=\"Ellipsoid with 0 flattening\",\n    radius=1000,\n    geocentric_grav_const=1,\n    angular_velocity=1,\n)\nprint(sphere)"
      ]
    },
    {
      "cell_type": "markdown",
      "metadata": {},
      "source": [
        "## Computations\n\nEllipsoids can be used for computations generally encountered in geodetic and\ngeophysical applications:\n\n1. `Normal gravity <normal_gravity>`\n2. Converting geodetic latitude and height into geocentric latitude and\n   radius.\n\nSee the respective tutorials and `reference documentation <api>` for\nmore information.\n\n"
      ]
    }
  ],
  "metadata": {
    "kernelspec": {
      "display_name": "Python 3",
      "language": "python",
      "name": "python3"
    },
    "language_info": {
      "codemirror_mode": {
        "name": "ipython",
        "version": 3
      },
      "file_extension": ".py",
      "mimetype": "text/x-python",
      "name": "python",
      "nbconvert_exporter": "python",
      "pygments_lexer": "ipython3",
      "version": "3.8.6"
    }
  },
  "nbformat": 4,
  "nbformat_minor": 0
}